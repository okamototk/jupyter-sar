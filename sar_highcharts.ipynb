{
 "cells": [
  {
   "cell_type": "code",
   "execution_count": 24,
   "metadata": {
    "collapsed": false,
    "scrolled": true
   },
   "outputs": [
    {
     "data": {
      "text/html": [
       "<iframe style=\"border:0;outline:none;overflow:hidden\" srcdoc=\"&lt;!DOCTYPE html&gt;\n",
       "&lt;html lang=&quot;en&quot;&gt;\n",
       "    &lt;head&gt;\n",
       "        &lt;meta charset=&quot;utf-8&quot; /&gt;\n",
       "        &lt;link href=&quot;https://www.highcharts.com/highslide/highslide.css&quot; rel=&quot;stylesheet&quot; /&gt;\n",
       "        &lt;script type=&quot;text/javascript&quot; src=&quot;https://ajax.googleapis.com/ajax/libs/jquery/1.7.2/jquery.min.js&quot;&gt;&lt;/script&gt;\n",
       "        &lt;script type=&quot;text/javascript&quot; src=&quot;https://code.highcharts.com/highcharts.js&quot;&gt;&lt;/script&gt;\n",
       "        &lt;script type=&quot;text/javascript&quot; src=&quot;https://code.highcharts.com/highcharts-more.js&quot;&gt;&lt;/script&gt;\n",
       "        &lt;script type=&quot;text/javascript&quot; src=&quot;https://code.highcharts.com/modules/exporting.js&quot;&gt;&lt;/script&gt;\n",
       "    &lt;/head&gt;\n",
       "    &lt;body style=&quot;margin:0;padding:0&quot;&gt;\n",
       "                &lt;div id=&quot;container&quot; style=&quot;width:640px;height:400px;&quot;&gt;Loading....&lt;/div&gt;\n",
       "\n",
       "\n",
       "    &lt;script&gt;\n",
       "        $(function(){\n",
       "\n",
       "\n",
       " \n",
       "\n",
       "\n",
       "\n",
       "\n",
       "            Highcharts.setOptions({&quot;lang&quot;: {}, &quot;global&quot;: {}});\n",
       "            var option = {&quot;colors&quot;: {}, &quot;drilldown&quot;: {}, &quot;tooltip&quot;: {&quot;valueSuffix&quot;: &quot;%&quot;, &quot;shared&quot;: true}, &quot;chart&quot;: {&quot;width&quot;: 640, &quot;renderTo&quot;: &quot;container&quot;, &quot;height&quot;: 400}, &quot;yAxis&quot;: {&quot;title&quot;: {&quot;text&quot;: &quot;%&quot;}, &quot;labels&quot;: {&quot;formatter&quot;: function () {                                    return this.value ;                                }}}, &quot;credits&quot;: {&quot;enabled&quot;: false}, &quot;series&quot;: {}, &quot;labels&quot;: {}, &quot;subtitle&quot;: {&quot;text&quot;: &quot;Source: test.sar&quot;}, &quot;loading&quot;: {}, &quot;navigation&quot;: {}, &quot;xAxis&quot;: {&quot;type&quot;: &quot;datetime&quot;, &quot;minRange&quot;: 130000}, &quot;pane&quot;: {}, &quot;legend&quot;: {}, &quot;plotOptions&quot;: {&quot;area&quot;: {&quot;stacking&quot;: &quot;normal&quot;, &quot;lineColor&quot;: &quot;#666666&quot;, &quot;lineWidth&quot;: 1, &quot;marker&quot;: {&quot;lineColor&quot;: &quot;#666666&quot;, &quot;lineWidth&quot;: 1}}}, &quot;title&quot;: {&quot;text&quot;: &quot;CPU Usage&quot;}, &quot;exporting&quot;: {}};\n",
       "\n",
       "\n",
       "            var data = [{&quot;pointInterval&quot;: 1000, &quot;data&quot;: [100.0, 100.0, 100.0, 100.0, 98.96, 100.0, 98.95, 100.0, 100.0, 100.0, 98.95, 46.94, 0.0, 1.0, 0.0, 1.03, 2.08, 1.0, 1.01, 0.0, 0.0, 1.01, 0.0, 1.01, 0.0, 1.01, 0.0, 0.0, 0.0, 1.0, 1.01, 0.0, 1.04, 1.04, 5.26, 1.05, 1.05, 2.11, 1.05, 1.05, 3.12, 1.05, 1.05, 0.0, 2.08, 2.11, 1.05, 0.0, 1.05, 1.04, 0.0, 1.04, 0.0, 2.08, 0.0, 1.05, 1.05, 0.0, 1.04, 1.05, 1.06, 1.04, 1.05, 0.0, 1.04, 0.0, 1.04, 0.0, 0.0, 1.04, 2.08, 0.0, 1.05, 1.05, 1.05, 1.05, 0.0, 2.11, 1.05, 1.05, 1.04, 1.05, 0.0, 1.04, 0.0, 1.05, 2.06, 0.0, 0.0, 1.04, 1.05, 1.05, 0.0, 1.05, 0.0, 2.08, 0.0, 1.05, 1.05, 0.0, 0.0, 1.04, 0.0, 1.05, 1.04, 0.0, 1.04, 0.0, 1.05, 1.04, 0.0, 0.0, 1.05, 0.0, 2.08, 0.0, 2.11, 1.04, 1.04, 2.13, 1.05, 2.08, 0.0, 2.11, 1.05, 1.05, 1.05, 1.04, 1.03, 0.0], &quot;name&quot;: &quot;%system&quot;, &quot;pointStart&quot;: Date.UTC(2016,7,19,17,19,27,0.0), &quot;type&quot;: &quot;area&quot;}, {&quot;pointInterval&quot;: 1000, &quot;data&quot;: [0.0, 0.0, 0.0, 0.0, 1.04, 0.0, 0.0, 0.0, 0.0, 0.0, 1.05, 2.04, 0.0, 1.0, 0.0, 0.0, 10.42, 0.0, 0.0, 1.01, 0.0, 0.0, 0.0, 0.0, 1.0, 0.0, 0.0, 1.01, 0.0, 1.0, 0.0, 51.04, 98.96, 98.96, 94.74, 98.95, 98.95, 97.89, 98.95, 98.95, 96.88, 98.95, 98.95, 100.0, 97.92, 97.89, 98.95, 100.0, 98.95, 98.96, 98.95, 98.96, 100.0, 97.92, 100.0, 98.95, 98.95, 100.0, 98.96, 98.95, 98.94, 98.96, 98.95, 100.0, 98.96, 100.0, 98.96, 100.0, 100.0, 98.96, 97.92, 100.0, 98.95, 98.95, 98.95, 98.95, 100.0, 97.89, 98.95, 98.95, 98.96, 98.95, 100.0, 98.96, 100.0, 98.95, 97.94, 98.95, 100.0, 98.96, 98.95, 98.95, 100.0, 98.95, 100.0, 97.92, 100.0, 98.95, 98.95, 100.0, 100.0, 98.96, 100.0, 98.95, 98.96, 100.0, 98.96, 100.0, 98.95, 98.96, 100.0, 100.0, 98.95, 100.0, 97.92, 100.0, 97.89, 98.96, 98.96, 97.87, 98.95, 97.92, 100.0, 97.89, 98.95, 98.95, 98.95, 98.96, 97.94, 100.0], &quot;name&quot;: &quot;%user&quot;, &quot;pointStart&quot;: Date.UTC(2016,7,19,17,19,27,0.0), &quot;type&quot;: &quot;area&quot;}, {&quot;pointInterval&quot;: 1000, &quot;data&quot;: [0.0, 0.0, 0.0, 0.0, 0.0, 0.0, 0.0, 0.0, 0.0, 0.0, 0.0, 4.08, 0.0, 0.0, 0.0, 0.0, 8.33, 0.0, 0.0, 0.0, 0.0, 0.0, 0.0, 0.0, 0.0, 0.0, 0.0, 0.0, 0.0, 0.0, 0.0, 0.0, 0.0, 0.0, 0.0, 0.0, 0.0, 0.0, 0.0, 0.0, 0.0, 0.0, 0.0, 0.0, 0.0, 0.0, 0.0, 0.0, 0.0, 0.0, 0.0, 0.0, 0.0, 0.0, 0.0, 0.0, 0.0, 0.0, 0.0, 0.0, 0.0, 0.0, 0.0, 0.0, 0.0, 0.0, 0.0, 0.0, 0.0, 0.0, 0.0, 0.0, 0.0, 0.0, 0.0, 0.0, 0.0, 0.0, 0.0, 0.0, 0.0, 0.0, 0.0, 0.0, 0.0, 0.0, 0.0, 0.0, 0.0, 0.0, 0.0, 0.0, 0.0, 0.0, 0.0, 0.0, 0.0, 0.0, 0.0, 0.0, 0.0, 0.0, 0.0, 0.0, 0.0, 0.0, 0.0, 0.0, 0.0, 0.0, 0.0, 0.0, 0.0, 0.0, 0.0, 0.0, 0.0, 0.0, 0.0, 0.0, 0.0, 0.0, 0.0, 0.0, 0.0, 0.0, 0.0, 0.0, 0.0, 0.0], &quot;name&quot;: &quot;%iowait&quot;, &quot;pointStart&quot;: Date.UTC(2016,7,19,17,19,27,0.0), &quot;type&quot;: &quot;area&quot;}, {&quot;pointInterval&quot;: 1000, &quot;data&quot;: [0.0, 0.0, 0.0, 0.0, 0.0, 0.0, 0.0, 0.0, 0.0, 0.0, 0.0, 46.94, 100.0, 98.0, 100.0, 98.97, 79.17, 99.0, 98.99, 98.99, 100.0, 98.99, 100.0, 98.99, 99.0, 98.99, 100.0, 98.99, 100.0, 98.0, 98.99, 48.96, 0.0, 0.0, 0.0, 0.0, 0.0, 0.0, 0.0, 0.0, 0.0, 0.0, 0.0, 0.0, 0.0, 0.0, 0.0, 0.0, 0.0, 0.0, 0.0, 0.0, 0.0, 0.0, 0.0, 0.0, 0.0, 0.0, 0.0, 0.0, 0.0, 0.0, 0.0, 0.0, 0.0, 0.0, 0.0, 0.0, 0.0, 0.0, 0.0, 0.0, 0.0, 0.0, 0.0, 0.0, 0.0, 0.0, 0.0, 0.0, 0.0, 0.0, 0.0, 0.0, 0.0, 0.0, 0.0, 0.0, 0.0, 0.0, 0.0, 0.0, 0.0, 0.0, 0.0, 0.0, 0.0, 0.0, 0.0, 0.0, 0.0, 0.0, 0.0, 0.0, 0.0, 0.0, 0.0, 0.0, 0.0, 0.0, 0.0, 0.0, 0.0, 0.0, 0.0, 0.0, 0.0, 0.0, 0.0, 0.0, 0.0, 0.0, 0.0, 0.0, 0.0, 0.0, 0.0, 0.0, 0.0, 0.0], &quot;name&quot;: &quot;%idle&quot;, &quot;pointStart&quot;: Date.UTC(2016,7,19,17,19,27,0.0), &quot;type&quot;: &quot;area&quot;}, {&quot;pointInterval&quot;: 1000, &quot;data&quot;: [0.0, 0.0, 0.0, 0.0, 0.0, 0.0, 1.05, 0.0, 0.0, 0.0, 0.0, 0.0, 0.0, 0.0, 0.0, 0.0, 0.0, 0.0, 0.0, 0.0, 0.0, 0.0, 0.0, 0.0, 0.0, 0.0, 0.0, 0.0, 0.0, 0.0, 0.0, 0.0, 0.0, 0.0, 0.0, 0.0, 0.0, 0.0, 0.0, 0.0, 0.0, 0.0, 0.0, 0.0, 0.0, 0.0, 0.0, 0.0, 0.0, 0.0, 1.05, 0.0, 0.0, 0.0, 0.0, 0.0, 0.0, 0.0, 0.0, 0.0, 0.0, 0.0, 0.0, 0.0, 0.0, 0.0, 0.0, 0.0, 0.0, 0.0, 0.0, 0.0, 0.0, 0.0, 0.0, 0.0, 0.0, 0.0, 0.0, 0.0, 0.0, 0.0, 0.0, 0.0, 0.0, 0.0, 0.0, 1.05, 0.0, 0.0, 0.0, 0.0, 0.0, 0.0, 0.0, 0.0, 0.0, 0.0, 0.0, 0.0, 0.0, 0.0, 0.0, 0.0, 0.0, 0.0, 0.0, 0.0, 0.0, 0.0, 0.0, 0.0, 0.0, 0.0, 0.0, 0.0, 0.0, 0.0, 0.0, 0.0, 0.0, 0.0, 0.0, 0.0, 0.0, 0.0, 0.0, 0.0, 1.03, 0.0], &quot;name&quot;: &quot;%steal&quot;, &quot;pointStart&quot;: Date.UTC(2016,7,19,17,19,27,0.0), &quot;type&quot;: &quot;area&quot;}, {&quot;pointInterval&quot;: 1000, &quot;data&quot;: [0.0, 0.0, 0.0, 0.0, 0.0, 0.0, 0.0, 0.0, 0.0, 0.0, 0.0, 0.0, 0.0, 0.0, 0.0, 0.0, 0.0, 0.0, 0.0, 0.0, 0.0, 0.0, 0.0, 0.0, 0.0, 0.0, 0.0, 0.0, 0.0, 0.0, 0.0, 0.0, 0.0, 0.0, 0.0, 0.0, 0.0, 0.0, 0.0, 0.0, 0.0, 0.0, 0.0, 0.0, 0.0, 0.0, 0.0, 0.0, 0.0, 0.0, 0.0, 0.0, 0.0, 0.0, 0.0, 0.0, 0.0, 0.0, 0.0, 0.0, 0.0, 0.0, 0.0, 0.0, 0.0, 0.0, 0.0, 0.0, 0.0, 0.0, 0.0, 0.0, 0.0, 0.0, 0.0, 0.0, 0.0, 0.0, 0.0, 0.0, 0.0, 0.0, 0.0, 0.0, 0.0, 0.0, 0.0, 0.0, 0.0, 0.0, 0.0, 0.0, 0.0, 0.0, 0.0, 0.0, 0.0, 0.0, 0.0, 0.0, 0.0, 0.0, 0.0, 0.0, 0.0, 0.0, 0.0, 0.0, 0.0, 0.0, 0.0, 0.0, 0.0, 0.0, 0.0, 0.0, 0.0, 0.0, 0.0, 0.0, 0.0, 0.0, 0.0, 0.0, 0.0, 0.0, 0.0, 0.0, 0.0, 0.0], &quot;name&quot;: &quot;%nice&quot;, &quot;pointStart&quot;: Date.UTC(2016,7,19,17,19,27,0.0), &quot;type&quot;: &quot;area&quot;}];\n",
       "            option.series = data;\n",
       "\n",
       " \n",
       "\n",
       "            var chart = new Highcharts.Chart(option);\n",
       "\n",
       "\n",
       "\n",
       "\n",
       "\n",
       " \n",
       "\n",
       "\n",
       "        \n",
       "    });\n",
       "        &lt;/script&gt;\n",
       "\n",
       "    &lt;/body&gt;\n",
       "&lt;/html&gt; \"height= 400 width = 640></iframe>"
      ],
      "text/plain": [
       "<highcharts.highcharts.highcharts.Highchart at 0x7f44e60cf320>"
      ]
     },
     "execution_count": 24,
     "metadata": {},
     "output_type": "execute_result"
    }
   ],
   "source": [
    "from highcharts import Highchart\n",
    "\n",
    "import lib\n",
    "\n",
    "H = Highchart(width=640, height=400)\n",
    "\n",
    "timestamp, cpu = lib.readSarCPU(\"test.sar\")\n",
    "\n",
    "del timestamp[0:70]\n",
    "for k in cpu.keys():\n",
    "    del cpu[k][0:70]\n",
    "\n",
    "lib.plot(x=timestamp, data=cpu,highchart=H,ylabel=u\"%\",xlabel=u\"time\")\n",
    "H"
   ]
  }
 ],
 "metadata": {
  "kernelspec": {
   "display_name": "Python 3",
   "language": "python",
   "name": "python3"
  },
  "language_info": {
   "codemirror_mode": {
    "name": "ipython",
    "version": 3
   },
   "file_extension": ".py",
   "mimetype": "text/x-python",
   "name": "python",
   "nbconvert_exporter": "python",
   "pygments_lexer": "ipython3",
   "version": "3.4.3"
  }
 },
 "nbformat": 4,
 "nbformat_minor": 0
}
